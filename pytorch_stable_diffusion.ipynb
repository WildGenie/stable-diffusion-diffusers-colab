{
  "nbformat": 4,
  "nbformat_minor": 0,
  "metadata": {
    "colab": {
      "provenance": []
    },
    "kernelspec": {
      "name": "python3",
      "display_name": "Python 3"
    },
    "language_info": {
      "name": "python"
    },
    "accelerator": "GPU",
    "gpuClass": "standard"
  },
  "cells": [
    {
      "cell_type": "markdown",
      "metadata": {
        "id": "view-in-github"
      },
      "source": [
        "[![Open In Colab](https://colab.research.google.com/assets/colab-badge.svg)](https://colab.research.google.com/github/camenduru/stable-diffusion-diffusers-colab/blob/main/pytorch_stable_diffusion.ipynb)"
      ]
    },
    {
      "cell_type": "code",
      "source": [
        "save_to = \"here\" #@param [\"here\", \"discord\", \"gdrive\"]\n",
        "if save_to == \"gdrive\":\n",
        "  from google.colab import drive\n",
        "  drive.mount('/content/gdrive')\n",
        "\n",
        "!pip install -U diffusers transformers piexif fold_to_ascii ftfy\n",
        "!pip install -q https://github.com/camenduru/stable-diffusion-webui-colab/releases/download/0.0.14/xformers-0.0.14.dev0-cp37-cp37m-linux_x86_64.whl"
      ],
      "metadata": {
        "cellView": "form",
        "id": "ymcDoPQn41U4"
      },
      "execution_count": null,
      "outputs": []
    },
    {
      "cell_type": "code",
      "source": [
        "import torch, os, gc, requests, json, piexif, shutil\n",
        "from diffusers import StableDiffusionPipeline\n",
        "from PIL import Image\n",
        "from PIL.PngImagePlugin import PngInfo\n",
        "from fold_to_ascii import fold\n",
        "metadata = PngInfo()\n",
        "\n",
        "discord_token = \"token\" #@param {type: 'string'}\n",
        "discord_channel_id = 0 #@param {type: 'integer'}\n",
        "prompt = \"duck\" #@param {type: 'string'}\n",
        "negative_prompt = \"red\" #@param {type: 'string'}\n",
        "width  = 512 #@param {type: 'integer'}\n",
        "height  = 512 #@param {type: 'integer'}\n",
        "guidance_scale = 7.5 #@param {type: 'number'}\n",
        "num_inference_steps = 50 #@param {type: 'integer'}\n",
        "suffix = \"jpg\" #@param [\"jpg\", \"png\"]\n",
        "by = \"camenduru\" #@param {type: 'string'}\n",
        "template = {\n",
        "    \"discord_token\": discord_token,\n",
        "    \"discord_channel_id\": discord_channel_id,\n",
        "    \"by\": by,\n",
        "    \"num_inference_steps\": num_inference_steps,\n",
        "    \"guidance_scale\": guidance_scale,\n",
        "    \"sampler\": \"PLMS\",\n",
        "    \"width\": width,\n",
        "    \"height\": height,\n",
        "    \"prompt\": prompt,\n",
        "    \"negative_prompt\": negative_prompt,\n",
        "    \"suffix\": suffix\n",
        "  }\n",
        "with open(\"template.json\", \"w\") as outfile:\n",
        "    outfile.write(json.dumps(template))\n",
        "\n",
        "def closestNumber(n, m):\n",
        "    q = int(n / m)\n",
        "    n1 = m * q\n",
        "    if (n * m) > 0:\n",
        "        n2 = m * (q + 1)\n",
        "    else:\n",
        "        n2 = m * (q - 1)\n",
        "    if abs(n - n1) < abs(n - n2):\n",
        "        return n1\n",
        "    return n2\n",
        "\n",
        "folder_max_files = 500 #@param {type: 'integer'}\n",
        "root_folder = 'ai_images' #@param {type: 'string'}\n",
        "\n",
        "if os.path.exists(f\"{root_folder}\") == False:\n",
        "    os.mkdir(f\"{root_folder}\")\n",
        "image_folder = max([int(f) for f in os.listdir(f\"{root_folder}\")], default=0)\n",
        "if os.path.exists(f\"{root_folder}/{image_folder:04}\") == False:\n",
        "    os.mkdir(f\"{root_folder}/{image_folder:04}\")\n",
        "name = max([int(f[: f.index(\".\")]) for f in os.listdir(f\"{root_folder}/{image_folder:04}\")],default=0,)\n",
        "\n",
        "model_folder = \"camenduru/sd15\" #@param [\"camenduru/sd15\", \"Linaqruf/anything-v3.0\", \"Fictiverse/Stable_Diffusion_PaperCut_Model\", \"nitrosocke/redshift-diffusion\", \"prompthero/midjourney-v4-diffusion\", \"dallinmackay/Tron-Legacy-diffusion\", \"DGSpitzer/Cyberpunk-Anime-Diffusion\", \"hakurei/waifu-diffusion-v1-3\", \"nitrosocke/Arcane-Diffusion\", \"nitrosocke/classic-anim-diffusion\", \"nitrosocke/mo-di-diffusion\"] {allow-input: true}\n",
        "pipe = StableDiffusionPipeline.from_pretrained(model_folder, safety_checker=None).to(\"cuda\")\n",
        "pipe.enable_xformers_memory_efficient_attention()\n",
        "\n",
        "def generate(discord_token, discord_channel_id, discord_user, by, num_inference_steps, guidance_scale, sampler, width, height, prompt, negative_prompt, suffix, image_folder, name):\n",
        "    width = closestNumber(width, 8)\n",
        "    height = closestNumber(height, 8)\n",
        "    metadata.add_text(\"Prompt\", f\"{prompt}\")\n",
        "    metadata.add_text(\"by\", f\"{by}\")\n",
        "    gc.collect()\n",
        "    with torch.autocast(\"cuda\"):\n",
        "      images = pipe(prompt, num_inference_steps=num_inference_steps, height=height, width=width, guidance_scale=guidance_scale).images\n",
        "    image = images[0]\n",
        "    real_seed = torch.cuda.initial_seed()\n",
        "    if(suffix == 'png'):\n",
        "      image.save(f\"{root_folder}/{image_folder:04}/{name:04}.{suffix}\", pnginfo=metadata)\n",
        "    else:\n",
        "      zeroth_ifd = {piexif.ImageIFD.ImageDescription: f\"{fold(prompt)}\", piexif.ImageIFD.Make: f\"{fold(by)}\", piexif.ImageIFD.Model: f\"{model_folder}\"}\n",
        "      exif_dict = {\"0th\": zeroth_ifd}\n",
        "      exif_bytes = piexif.dump(exif_dict)\n",
        "      image.save(f\"{root_folder}/{image_folder:04}/{name:04}.{suffix}\", \"JPEG\", quality=70, exif=exif_bytes)\n",
        "    files = {f\"{image_folder:04}_{name:04}.{suffix}\": open(f\"{root_folder}/{image_folder:04}/{name:04}.{suffix}\", \"rb\").read()}\n",
        "    if save_to == \"gdrive\":\n",
        "      shutil.copyfile(f\"{root_folder}/{image_folder:04}/{name:04}.{suffix}\", f\"/content/gdrive/{root_folder}/{image_folder:04}/{name:04}.{suffix}\")\n",
        "      os.remove(f\"{root_folder}/{image_folder:04}/{name:04}.{suffix}\")\n",
        "    elif save_to == \"discord\":\n",
        "      payload = {\"content\": f\"{prompt}\\nSteps: {num_inference_steps}, Sampler: {sampler}, CFG scale: {guidance_scale}, Seed: {real_seed}, Size: {width}x{height}, Model folder: {model_folder} - {discord_user}\"}\n",
        "      requests.post(f\"https://discord.com/api/v9/channels/{discord_channel_id}/messages\", data=payload, headers={\"authorization\": f\"Bot {discord_token}\"}, files=files)\n",
        "      os.remove(f\"{root_folder}/{image_folder:04}/{name:04}.{suffix}\")"
      ],
      "metadata": {
        "cellView": "form",
        "id": "VhsXOJ4BNBRK"
      },
      "execution_count": null,
      "outputs": []
    },
    {
      "cell_type": "code",
      "source": [
        "is_loop = False #@param {type:\"boolean\"}\n",
        "\n",
        "if is_loop:\n",
        "  while True:\n",
        "      if name < folder_max_files:\n",
        "          with open(\"template.json\", \"r\") as file:\n",
        "              prompts = file.readlines()\n",
        "          for prompt in prompts:\n",
        "              d = json.loads(prompt)\n",
        "              name += 1\n",
        "              generate(d[\"discord_token\"], d[\"discord_channel_id\"], \"camenduru\", d[\"by\"], d[\"num_inference_steps\"], d[\"guidance_scale\"], d[\"sampler\"], d[\"width\"], d[\"height\"], d[\"prompt\"], d[\"negative_prompt\"], d[\"suffix\"], image_folder, name)\n",
        "      else:\n",
        "          image_folder += 1\n",
        "          if os.path.exists(f\"{root_folder}/{image_folder:04}\") == False:\n",
        "              os.mkdir(f\"{root_folder}/{image_folder:04}\")\n",
        "          name = 0\n",
        "else:\n",
        "  if name < folder_max_files:\n",
        "      with open(\"template.json\", \"r\") as file:\n",
        "          prompts = file.readlines()\n",
        "      for prompt in prompts:\n",
        "          d = json.loads(prompt)\n",
        "          name += 1\n",
        "          generate(d[\"discord_token\"], d[\"discord_channel_id\"], \"camenduru\", d[\"by\"], d[\"num_inference_steps\"], d[\"guidance_scale\"], d[\"sampler\"], d[\"width\"], d[\"height\"], d[\"prompt\"], d[\"negative_prompt\"], d[\"suffix\"], image_folder, name)\n",
        "  else:\n",
        "      image_folder += 1\n",
        "      if os.path.exists(f\"{root_folder}/{image_folder:04}\") == False:\n",
        "          os.mkdir(f\"{root_folder}/{image_folder:04}\")\n",
        "      name = 0"
      ],
      "metadata": {
        "cellView": "form",
        "id": "DDUev8TOMxJ4"
      },
      "execution_count": null,
      "outputs": []
    }
  ]
}
